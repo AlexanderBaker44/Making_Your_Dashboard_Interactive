{
 "cells": [
  {
   "cell_type": "code",
   "execution_count": 1,
   "metadata": {},
   "outputs": [],
   "source": [
    "import pandas as pd\n",
    "from sklearn.linear_model import LogisticRegression\n",
    "from sklearn.tree import DecisionTreeClassifier\n",
    "from sklearn.ensemble import RandomForestClassifier\n",
    "from sklearn.svm import SVC\n",
    "import xgboost as xgb\n",
    "from sklearn.metrics import accuracy_score\n",
    "from sklearn.model_selection import train_test_split\n",
    "from sklearn.model_selection import cross_val_score\n",
    "from sklearn.model_selection import cross_val_score\n",
    "import warnings\n",
    "from sklearn.model_selection import GridSearchCV\n",
    "import pickle as pkl\n",
    "warnings.filterwarnings(\"ignore\")\n",
    "from sklearn.preprocessing import StandardScaler\n",
    "from sklearn.decomposition import PCA\n",
    "from sklearn.metrics import f1_score\n",
    "from sklearn.metrics import roc_curve\n",
    "from sklearn.metrics import plot_roc_curve\n",
    "from sklearn.metrics import confusion_matrix,ConfusionMatrixDisplay"
   ]
  },
  {
   "cell_type": "code",
   "execution_count": 2,
   "metadata": {},
   "outputs": [],
   "source": [
    "#Read in the data\n",
    "heart_df=pd.read_csv('Data/heart.csv')"
   ]
  },
  {
   "cell_type": "markdown",
   "metadata": {},
   "source": [
    "Let's start by making some initial models"
   ]
  },
  {
   "cell_type": "code",
   "execution_count": 3,
   "metadata": {},
   "outputs": [],
   "source": [
    "#Split up the data\n",
    "X=heart_df.drop('target',axis=1)\n",
    "y=heart_df['target']\n",
    "X_train,X_test,y_train,y_test = train_test_split(X,y,test_size=0.2)"
   ]
  },
  {
   "cell_type": "code",
   "execution_count": 4,
   "metadata": {},
   "outputs": [
    {
     "name": "stdout",
     "output_type": "stream",
     "text": [
      "[0.86407767 0.90291262 0.85436893 0.82524272 0.84466019 0.90196078\n",
      " 0.79411765 0.82352941 0.7745098  0.80392157]\n"
     ]
    }
   ],
   "source": [
    "#Create the Logistic Regression Model\n",
    "#Instantiate\n",
    "lg=LogisticRegression()\n",
    "#Fit the model\n",
    "lg_fit=lg.fit(X_train,y_train)\n",
    "#Make predictions\n",
    "lg_preds=lg.predict(X_test)\n",
    "#Assess accuracy\n",
    "accuracy_score(lg_preds,y_test)\n",
    "#Cross validate scores\n",
    "scores=cross_val_score(lg,X,y,cv=10)\n",
    "print(scores)"
   ]
  },
  {
   "cell_type": "code",
   "execution_count": 5,
   "metadata": {},
   "outputs": [
    {
     "name": "stdout",
     "output_type": "stream",
     "text": [
      "[0.65048544 0.69902913 0.77669903 0.67961165 0.69902913 0.73529412\n",
      " 0.64705882 0.64705882 0.70588235 0.65686275]\n"
     ]
    }
   ],
   "source": [
    "#Create the Logistic SVM Model\n",
    "#Instantiate\n",
    "sv=SVC()\n",
    "#Fit the model\n",
    "sv_fit=sv.fit(X_train,y_train)\n",
    "#Make predictions\n",
    "sv_preds=sv_fit.predict(X_test)\n",
    "#Assess accuracy\n",
    "accuracy_score(sv_preds,y_test)\n",
    "#Cross validate scores\n",
    "scores=cross_val_score(sv,X,y,cv=10)\n",
    "print(scores)"
   ]
  },
  {
   "cell_type": "code",
   "execution_count": 6,
   "metadata": {},
   "outputs": [
    {
     "name": "stdout",
     "output_type": "stream",
     "text": [
      "[1.         1.         1.         0.97087379 1.         1.\n",
      " 1.         1.         1.         1.        ]\n"
     ]
    }
   ],
   "source": [
    "#Instantiate\n",
    "dt=DecisionTreeClassifier()\n",
    "#Fit the model\n",
    "dt_fit=dt.fit(X_train,y_train)\n",
    "#Make predictions\n",
    "dt_preds=dt_fit.predict(X_test)\n",
    "#Assess accuracy\n",
    "accuracy_score(dt_preds,y_test)\n",
    "#Cross validate scores\n",
    "scores=cross_val_score(dt,X,y,cv=10)\n",
    "print(scores)"
   ]
  },
  {
   "cell_type": "code",
   "execution_count": 7,
   "metadata": {},
   "outputs": [
    {
     "name": "stdout",
     "output_type": "stream",
     "text": [
      "[1.         1.         1.         1.         1.         1.\n",
      " 1.         1.         0.97058824 1.        ]\n"
     ]
    }
   ],
   "source": [
    "#Instantiate\n",
    "rf=RandomForestClassifier()\n",
    "#Fit the model\n",
    "rf_fit=rf.fit(X_train,y_train)\n",
    "#Make predictions\n",
    "rf_preds=rf.predict(X_test)\n",
    "#Assess accuracy\n",
    "accuracy_score(rf_preds,y_test)\n",
    "#Cross validate scores\n",
    "scores=cross_val_score(rf,X,y,cv=10)\n",
    "print(scores)"
   ]
  },
  {
   "cell_type": "code",
   "execution_count": 8,
   "metadata": {},
   "outputs": [
    {
     "name": "stdout",
     "output_type": "stream",
     "text": [
      "[1. 1. 1. 1. 1. 1. 1. 1. 1. 1.]\n"
     ]
    }
   ],
   "source": [
    "#Instantiate\n",
    "xg=xgb.XGBClassifier()\n",
    "#Fit the model\n",
    "dt_xg=xg.fit(X_train,y_train)\n",
    "#Make predictions\n",
    "xg_preds=xg.predict(X_test)\n",
    "#Assess accuracy\n",
    "accuracy_score(xg_preds,y_test)\n",
    "#Cross validate scores\n",
    "scores=cross_val_score(xg,X,y,cv=10)\n",
    "print(scores)"
   ]
  },
  {
   "cell_type": "markdown",
   "metadata": {},
   "source": [
    "Let's try to eliminate some overfitting"
   ]
  },
  {
   "cell_type": "code",
   "execution_count": 9,
   "metadata": {},
   "outputs": [],
   "source": [
    "#Create overall testing and training set\n",
    "X_train,X_test,y_train,y_test = train_test_split(X,y,test_size=0.2)\n",
    "#Create sub testing and training set to test models\n",
    "sub_X_train,sub_X_test,sub_y_train,sub_y_test = train_test_split(X_train,y_train,test_size=0.2)"
   ]
  },
  {
   "cell_type": "code",
   "execution_count": 10,
   "metadata": {},
   "outputs": [
    {
     "name": "stdout",
     "output_type": "stream",
     "text": [
      "[0.98780488 0.97560976 0.98780488 1.         0.97560976 1.\n",
      " 1.         1.         1.         0.95121951]\n"
     ]
    }
   ],
   "source": [
    "#Since XGboost was the best, we will repeat it for these other concepts\n",
    "xg=xgb.XGBClassifier()\n",
    "xg_fit=xg.fit(sub_X_train,sub_y_train)\n",
    "xg_preds=xg.predict(sub_X_test)\n",
    "accuracy_score(xg_preds,sub_y_test)\n",
    "scores=cross_val_score(xg,X_train,y_train,cv=10)\n",
    "print(scores)"
   ]
  },
  {
   "cell_type": "code",
   "execution_count": 11,
   "metadata": {},
   "outputs": [
    {
     "data": {
      "text/plain": [
       "0.975609756097561"
      ]
     },
     "execution_count": 11,
     "metadata": {},
     "output_type": "execute_result"
    }
   ],
   "source": [
    "#Assess accuracy on the overall model\n",
    "xg_preds_overall=xg_fit.predict(X_test)\n",
    "accuracy_score(xg_preds_overall,y_test)"
   ]
  },
  {
   "cell_type": "markdown",
   "metadata": {},
   "source": [
    "Let's show off some other accuracy metrics"
   ]
  },
  {
   "cell_type": "code",
   "execution_count": 12,
   "metadata": {},
   "outputs": [
    {
     "data": {
      "text/plain": [
       "0.9758454106280192"
      ]
     },
     "execution_count": 12,
     "metadata": {},
     "output_type": "execute_result"
    }
   ],
   "source": [
    "#Let's see what the f1_score is \n",
    "f1_score(xg_preds_overall,y_test)"
   ]
  },
  {
   "cell_type": "code",
   "execution_count": 13,
   "metadata": {},
   "outputs": [
    {
     "data": {
      "text/plain": [
       "(array([0.        , 0.01980198, 1.        ]),\n",
       " array([0.        , 0.97115385, 1.        ]),\n",
       " array([2, 1, 0], dtype=int64))"
      ]
     },
     "execution_count": 13,
     "metadata": {},
     "output_type": "execute_result"
    }
   ],
   "source": [
    "#Let's check roc\n",
    "roc_curve(xg_preds_overall,y_test)"
   ]
  },
  {
   "cell_type": "code",
   "execution_count": 14,
   "metadata": {},
   "outputs": [
    {
     "data": {
      "text/plain": [
       "<sklearn.metrics._plot.roc_curve.RocCurveDisplay at 0x2989e1b9a30>"
      ]
     },
     "execution_count": 14,
     "metadata": {},
     "output_type": "execute_result"
    },
    {
     "data": {
      "image/png": "[encoded data removed]",
      "text/plain": [
       "<Figure size 432x288 with 1 Axes>"
      ]
     },
     "metadata": {
      "needs_background": "light"
     },
     "output_type": "display_data"
    }
   ],
   "source": [
    "#ROC curve is excellent\n",
    "plot_roc_curve(xg_fit,X_test,y_test)"
   ]
  },
  {
   "cell_type": "code",
   "execution_count": 15,
   "metadata": {},
   "outputs": [
    {
     "data": {
      "text/plain": [
       "array([[ 99,   2],\n",
       "       [  3, 101]], dtype=int64)"
      ]
     },
     "execution_count": 15,
     "metadata": {},
     "output_type": "execute_result"
    }
   ],
   "source": [
    "#Confusion Matrix\n",
    "cm=confusion_matrix(xg_preds_overall,y_test)\n",
    "cm"
   ]
  },
  {
   "cell_type": "code",
   "execution_count": 16,
   "metadata": {},
   "outputs": [
    {
     "data": {
      "text/plain": [
       "<sklearn.metrics._plot.confusion_matrix.ConfusionMatrixDisplay at 0x298a50056d0>"
      ]
     },
     "execution_count": 16,
     "metadata": {},
     "output_type": "execute_result"
    },
    {
     "data": {
      "image/png": "[encoded data removed]",
      "text/plain": [
       "<Figure size 432x288 with 2 Axes>"
      ]
     },
     "metadata": {
      "needs_background": "light"
     },
     "output_type": "display_data"
    }
   ],
   "source": [
    "#not so informative, let's try this\n",
    "disp = ConfusionMatrixDisplay(confusion_matrix=cm,display_labels=xg.classes_)\n",
    "disp.plot()"
   ]
  },
  {
   "cell_type": "markdown",
   "metadata": {},
   "source": [
    "Now let's do some parameter optimization"
   ]
  },
  {
   "cell_type": "code",
   "execution_count": 17,
   "metadata": {},
   "outputs": [
    {
     "data": {
      "text/plain": [
       "array([0.98780488, 0.97560976, 0.96341463, 1.        , 0.97560976,\n",
       "       1.        , 1.        , 1.        , 1.        , 0.97560976])"
      ]
     },
     "execution_count": 17,
     "metadata": {},
     "output_type": "execute_result"
    }
   ],
   "source": [
    "#Optimize parameters\n",
    "#Create param grid\n",
    "param_grid={'learning_rate': [0.01,0.05,0.1],\n",
    "           'n_estimators': [10,100,1000],\n",
    "           'max_depth': [3,6,10]}\n",
    "#Instantiate grid search\n",
    "gs_cv=GridSearchCV(estimator=xg,param_grid=param_grid)\n",
    "#Find the grid search model\n",
    "gs_model=gs_cv.fit(X_train,y_train)\n",
    "#cross validate the grid searched model\n",
    "cross_val_score(gs_model,X_train,y_train,cv=10)"
   ]
  },
  {
   "cell_type": "code",
   "execution_count": 18,
   "metadata": {},
   "outputs": [
    {
     "data": {
      "text/plain": [
       "1.0"
      ]
     },
     "execution_count": 18,
     "metadata": {},
     "output_type": "execute_result"
    }
   ],
   "source": [
    "#Test model on the external testing set to ensure a lack of over fitting\n",
    "gs_preds=gs_model.predict(X_test)\n",
    "accuracy_score(gs_preds,y_test)"
   ]
  },
  {
   "cell_type": "markdown",
   "metadata": {},
   "source": [
    "Now let's save and load the optimized model"
   ]
  },
  {
   "cell_type": "code",
   "execution_count": 19,
   "metadata": {},
   "outputs": [],
   "source": [
    "#save the model to a pickle file\n",
    "#open file\n",
    "f=open('Models/model.pkl','wb')\n",
    "#dump model into pickle file\n",
    "pkl.dump(gs_model,f)\n",
    "#close file\n",
    "f.close()"
   ]
  },
  {
   "cell_type": "code",
   "execution_count": 20,
   "metadata": {},
   "outputs": [],
   "source": [
    "#load a model from a pcikle file\n",
    "#open file\n",
    "f=open('Models/model.pkl','rb')\n",
    "#read in model\n",
    "model=pkl.load(f)\n",
    "#close file\n",
    "f.close()"
   ]
  },
  {
   "cell_type": "markdown",
   "metadata": {},
   "source": [
    "Let's see what happens when we standardize the data"
   ]
  },
  {
   "cell_type": "code",
   "execution_count": 21,
   "metadata": {},
   "outputs": [
    {
     "name": "stdout",
     "output_type": "stream",
     "text": [
      "[[-0.26843658  0.66150409 -0.91575542 ...  0.99543334  1.20922066\n",
      "   1.08985168]\n",
      " [-0.15815703  0.66150409 -0.91575542 ... -2.24367514 -0.73197147\n",
      "   1.08985168]\n",
      " [ 1.71659547  0.66150409 -0.91575542 ... -2.24367514 -0.73197147\n",
      "   1.08985168]\n",
      " ...\n",
      " [-0.81983438  0.66150409 -0.91575542 ... -0.6241209   0.23862459\n",
      "  -0.52212231]\n",
      " [-0.4889957  -1.51170646 -0.91575542 ...  0.99543334 -0.73197147\n",
      "  -0.52212231]\n",
      " [-0.04787747  0.66150409 -0.91575542 ... -0.6241209   0.23862459\n",
      "   1.08985168]]\n"
     ]
    }
   ],
   "source": [
    "#Let's try a standardization method\n",
    "#instantiate\n",
    "ss=StandardScaler()\n",
    "#fit and transform the data\n",
    "data=ss.fit_transform(X)\n",
    "print(data)"
   ]
  },
  {
   "cell_type": "code",
   "execution_count": 22,
   "metadata": {},
   "outputs": [],
   "source": [
    "#turn standardized data into a frame\n",
    "standardized_df_x=pd.DataFrame(data)\n",
    "standardized_df_x.columns=X.columns"
   ]
  },
  {
   "cell_type": "code",
   "execution_count": 23,
   "metadata": {},
   "outputs": [],
   "source": [
    "#split and subsplit the data\n",
    "X_train,X_test,y_train,y_test = train_test_split(standardized_df_x,y,test_size=0.2)\n",
    "\n",
    "sub_X_train,sub_X_test,sub_y_train,sub_y_test = train_test_split(X_train,y_train,test_size=0.2)"
   ]
  },
  {
   "cell_type": "code",
   "execution_count": 24,
   "metadata": {},
   "outputs": [
    {
     "name": "stdout",
     "output_type": "stream",
     "text": [
      "[1.         1.         0.98780488 1.         1.         0.97560976\n",
      " 0.98780488 1.         1.         1.        ]\n"
     ]
    }
   ],
   "source": [
    "#load data into an XGBoost model\n",
    "xg=xgb.XGBClassifier()\n",
    "xg_fit=xg.fit(sub_X_train,sub_y_train)\n",
    "xg_preds=xg.predict(sub_X_test)\n",
    "accuracy_score(xg_preds,sub_y_test)\n",
    "scores=cross_val_score(xg,X_train,y_train,cv=10)\n",
    "print(scores)"
   ]
  },
  {
   "cell_type": "code",
   "execution_count": 25,
   "metadata": {},
   "outputs": [
    {
     "data": {
      "text/plain": [
       "1.0"
      ]
     },
     "execution_count": 25,
     "metadata": {},
     "output_type": "execute_result"
    }
   ],
   "source": [
    "#Ensure lack of overfitting \n",
    "xg_preds_overall=xg_fit.predict(X_test)\n",
    "accuracy_score(xg_preds_overall,y_test)"
   ]
  },
  {
   "cell_type": "markdown",
   "metadata": {},
   "source": [
    "Now let's try some feature elimination"
   ]
  },
  {
   "cell_type": "code",
   "execution_count": 26,
   "metadata": {},
   "outputs": [
    {
     "name": "stdout",
     "output_type": "stream",
     "text": [
      "[[-0.52255555 -1.11280319  0.95681551 ... -0.55883786 -0.35637623\n",
      "  -0.11790814]\n",
      " [ 2.59038087 -0.53316168  1.46731492 ... -0.65429855 -0.85577252\n",
      "   0.28130316]\n",
      " [ 3.04235195 -1.32752064 -0.42476481 ... -0.51925043 -0.89645601\n",
      "   0.9471883 ]\n",
      " ...\n",
      " [ 1.24507316 -1.45735643 -0.4738734  ...  0.41915953  0.76503283\n",
      "   0.07844114]\n",
      " [-1.62005298  0.12444348 -1.32795605 ... -0.31917042 -0.18881188\n",
      "  -0.38606238]\n",
      " [ 0.93416859 -1.77854872 -0.00588162 ... -0.98859473  0.7812546\n",
      "  -0.24090225]]\n"
     ]
    }
   ],
   "source": [
    "#Now let's try some dimensionality reduction\n",
    "#instantiate PCA\n",
    "pca=PCA()\n",
    "#Fit and transform \n",
    "pc_data=pca.fit_transform(standardized_df_x)\n",
    "print(pc_data)"
   ]
  },
  {
   "cell_type": "code",
   "execution_count": 27,
   "metadata": {},
   "outputs": [
    {
     "name": "stdout",
     "output_type": "stream",
     "text": [
      "[0.21369912 0.11971959 0.09238384 0.08994039 0.07685925 0.07479569\n",
      " 0.06741785 0.05907578 0.05584142 0.04849683 0.04017354 0.0332042\n",
      " 0.02839249]\n"
     ]
    }
   ],
   "source": [
    "#Put results into a dataframe\n",
    "pc_data_df=pd.DataFrame(pc_data)\n",
    "pc_data_df.columns=['comp'+str(i) for i in range(len(X.columns))]\n",
    "#Let's see the explained ratio per feature\n",
    "print(pca.explained_variance_ratio_)"
   ]
  },
  {
   "cell_type": "code",
   "execution_count": 28,
   "metadata": {},
   "outputs": [
    {
     "data": {
      "text/plain": [
       "<AxesSubplot:xlabel='comp1', ylabel='comp2'>"
      ]
     },
     "execution_count": 28,
     "metadata": {},
     "output_type": "execute_result"
    },
    {
     "data": {
      "image/png": "[encoded data removed]",
      "text/plain": [
       "<Figure size 432x288 with 1 Axes>"
      ]
     },
     "metadata": {
      "needs_background": "light"
     },
     "output_type": "display_data"
    }
   ],
   "source": [
    "#Let's see a 2d representation of our data\n",
    "plot_df=pc_data_df[['comp1','comp2']]\n",
    "color_dict={0:'blue',1:'red'}\n",
    "plot_df['color']=[color_dict[i] for i in y]\n",
    "plot_df.plot('comp1','comp2',kind='scatter',color=plot_df['color'])"
   ]
  },
  {
   "cell_type": "code",
   "execution_count": 29,
   "metadata": {},
   "outputs": [],
   "source": [
    "#Let's see what happens when we only want to see features that consist of 90% of the variance\n",
    "pc_data_df.drop(['comp10','comp11','comp12'],axis=1,inplace=True)"
   ]
  },
  {
   "cell_type": "code",
   "execution_count": 30,
   "metadata": {},
   "outputs": [],
   "source": [
    "#Split and subsplit the data\n",
    "X_train,X_test,y_train,y_test = train_test_split(pc_data_df,y,test_size=0.2)\n",
    "\n",
    "sub_X_train,sub_X_test,sub_y_train,sub_y_test = train_test_split(X_train,y_train,test_size=0.2)"
   ]
  },
  {
   "cell_type": "code",
   "execution_count": 31,
   "metadata": {},
   "outputs": [
    {
     "name": "stdout",
     "output_type": "stream",
     "text": [
      "[1.         0.98780488 1.         0.98780488 1.         0.96341463\n",
      " 1.         1.         1.         1.        ]\n"
     ]
    }
   ],
   "source": [
    "#Create, fit, and evaluate the model\n",
    "xg=xgb.XGBClassifier()\n",
    "xg_fit=xg.fit(sub_X_train,sub_y_train)\n",
    "xg_preds=xg.predict(sub_X_test)\n",
    "accuracy_score(xg_preds,sub_y_test)\n",
    "scores=cross_val_score(xg,X_train,y_train,cv=10)\n",
    "print(scores)"
   ]
  },
  {
   "cell_type": "code",
   "execution_count": 32,
   "metadata": {},
   "outputs": [
    {
     "data": {
      "text/plain": [
       "0.9951219512195122"
      ]
     },
     "execution_count": 32,
     "metadata": {},
     "output_type": "execute_result"
    }
   ],
   "source": [
    "#Ensure lack of overfitting \n",
    "xg_preds_overall=xg_fit.predict(X_test)\n",
    "accuracy_score(xg_preds_overall,y_test)"
   ]
  },
  {
   "cell_type": "code",
   "execution_count": null,
   "metadata": {},
   "outputs": [],
   "source": []
  }
 ],
 "metadata": {
  "kernelspec": {
   "display_name": "Python 3",
   "language": "python",
   "name": "python3"
  },
  "language_info": {
   "codemirror_mode": {
    "name": "ipython",
    "version": 3
   },
   "file_extension": ".py",
   "mimetype": "text/x-python",
   "name": "python",
   "nbconvert_exporter": "python",
   "pygments_lexer": "ipython3",
   "version": "3.8.5"
  }
 },
 "nbformat": 4,
 "nbformat_minor": 4
}
